{
  "nbformat": 4,
  "nbformat_minor": 0,
  "metadata": {
    "kernelspec": {
      "name": "python3",
      "display_name": "Python 3"
    },
    "language_info": {
      "codemirror_mode": {
        "name": "ipython",
        "version": 3
      },
      "file_extension": ".py",
      "mimetype": "text/x-python",
      "name": "python",
      "nbconvert_exporter": "python",
      "pygments_lexer": "ipython3",
      "version": "3.6.5"
    },
    "colab": {
      "name": "Copy of FB_EDA.ipynb",
      "provenance": [],
      "collapsed_sections": [
        "fjGhgPp2ORmH",
        "fCRpdjITORmu",
        "dZYvDAwDORnU",
        "JOFQEKhjORne"
      ],
      "machine_shape": "hm"
    },
    "accelerator": "GPU"
  },
  "cells": [
    {
      "cell_type": "markdown",
      "metadata": {
        "id": "rnysF8x_ORlO",
        "colab_type": "text"
      },
      "source": [
        "<p style=\"font-size:32px;text-align:center\"> <b>Social network Graph Link Prediction - Facebook Challenge</b> </p>"
      ]
    },
    {
      "cell_type": "markdown",
      "metadata": {
        "id": "JkoerGBXORlS",
        "colab_type": "text"
      },
      "source": [
        "### Problem statement: \n",
        "Given a directed social graph, have to predict missing links to recommend users (Link Prediction in graph)"
      ]
    },
    {
      "cell_type": "markdown",
      "metadata": {
        "id": "V3QpE6i9ORlU",
        "colab_type": "text"
      },
      "source": [
        "### Data Overview\n",
        "Taken data from facebook's recruting challenge on kaggle https://www.kaggle.com/c/FacebookRecruiting  \n",
        "data contains two columns source and destination eac edge in graph \n",
        "    - Data columns (total 2 columns):  \n",
        "    - source_node         int64  \n",
        "    - destination_node    int64  "
      ]
    },
    {
      "cell_type": "markdown",
      "metadata": {
        "id": "NHsD-3qlORlV",
        "colab_type": "text"
      },
      "source": [
        "### Mapping the problem into supervised learning problem:\n",
        "- Generated training samples of good and bad links from given directed graph and for each link got some features like no of followers, is he followed back, page rank, katz score, adar index, some svd fetures of adj matrix, some weight features etc. and trained ml model based on these features to predict link. \n",
        "- Some reference papers and videos :  \n",
        "    - https://www.cs.cornell.edu/home/kleinber/link-pred.pdf\n",
        "    - https://www3.nd.edu/~dial/publications/lichtenwalter2010new.pdf\n",
        "    - https://www.youtube.com/watch?v=2M77Hgy17cg"
      ]
    },
    {
      "cell_type": "markdown",
      "metadata": {
        "id": "KJhG3ZczORlW",
        "colab_type": "text"
      },
      "source": [
        "### Business objectives and constraints:  \n",
        "- No low-latency requirement.\n",
        "- Probability of prediction is useful to recommend ighest probability links"
      ]
    },
    {
      "cell_type": "markdown",
      "metadata": {
        "id": "BUZLwsmKORlX",
        "colab_type": "text"
      },
      "source": [
        "### Performance metric for supervised learning:  \n",
        "- Both precision and recall is important so F1 score is good choice\n",
        "- Confusion matrix"
      ]
    },
    {
      "cell_type": "code",
      "metadata": {
        "id": "JDE330RZORlY",
        "colab_type": "code",
        "colab": {}
      },
      "source": [
        "#Importing Libraries\n",
        "# please do go through this python notebook: \n",
        "import warnings\n",
        "warnings.filterwarnings(\"ignore\")\n",
        "\n",
        "import csv\n",
        "import pandas as pd#pandas to create small dataframes \n",
        "import datetime #Convert to unix time\n",
        "import time #Convert to unix time\n",
        "# if numpy is not installed already : pip3 install numpy\n",
        "import numpy as np#Do aritmetic operations on arrays\n",
        "# matplotlib: used to plot graphs\n",
        "import matplotlib\n",
        "import matplotlib.pylab as plt\n",
        "import seaborn as sns#Plots\n",
        "from matplotlib import rcParams#Size of plots  \n",
        "from sklearn.cluster import MiniBatchKMeans, KMeans#Clustering\n",
        "import math\n",
        "import pickle\n",
        "import os\n",
        "# to install xgboost: pip3 install xgboost\n",
        "import xgboost as xgb\n",
        "\n",
        "import warnings\n",
        "import networkx as nx\n",
        "import pdb\n",
        "import pickle"
      ],
      "execution_count": 0,
      "outputs": []
    },
    {
      "cell_type": "markdown",
      "metadata": {
        "id": "ZyClAckGSRoH",
        "colab_type": "text"
      },
      "source": [
        "<h1> Reading Data </h1>"
      ]
    },
    {
      "cell_type": "code",
      "metadata": {
        "id": "INekEKc3RSwG",
        "colab_type": "code",
        "colab": {}
      },
      "source": [
        "!pip install -U -q PyDrive\n",
        "from pydrive.auth import GoogleAuth\n",
        "from pydrive.drive import GoogleDrive\n",
        "from google.colab import auth\n",
        "from oauth2client.client import GoogleCredentials\n",
        "\n",
        "auth.authenticate_user()\n",
        "gauth = GoogleAuth()\n",
        "gauth.credentials = GoogleCredentials.get_application_default()\n",
        "drive = GoogleDrive(gauth)"
      ],
      "execution_count": 0,
      "outputs": []
    },
    {
      "cell_type": "code",
      "metadata": {
        "id": "qj_OeLNURS97",
        "colab_type": "code",
        "colab": {}
      },
      "source": [
        "train_data = '1eXqWmEX_QtxzGkq1rjpUn5QIzfkPeYW4'\n",
        "downloaded = drive.CreateFile({'id':train_data})\n",
        "downloaded.GetContentFile('train.csv')\n",
        "\n",
        "train_y = '1CGpGDJ379IrPpH604v3TU1YlRyxLXwXc'\n",
        "downloaded = drive.CreateFile({'id':train_y})\n",
        "downloaded.GetContentFile('train_y.csv')\n",
        "\n",
        "missing_edge_final = '11q3GmUJGwCWmNjkyn46zpdxa7Jh7LuAD'\n",
        "downloaded = drive.CreateFile({'id':missing_edge_final})\n",
        "downloaded.GetContentFile('missing_edges_final.p')"
      ],
      "execution_count": 0,
      "outputs": []
    },
    {
      "cell_type": "code",
      "metadata": {
        "id": "TS1Uy_1fORld",
        "colab_type": "code",
        "outputId": "e38ea5ef-fc6e-497c-b3eb-f4b7e4504a98",
        "colab": {
          "base_uri": "https://localhost:8080/",
          "height": 136
        }
      },
      "source": [
        "#reading graph\n",
        "if not os.path.isfile('train_woheader.csv'):\n",
        "    traincsv = pd.read_csv('train.csv')\n",
        "    print(traincsv[traincsv.isna().any(1)])\n",
        "    print(traincsv.info())\n",
        "    print(\"Number of diplicate entries: \",sum(traincsv.duplicated()))\n",
        "    traincsv.to_csv('train_woheader.csv',header=False,index=False)\n",
        "    !cp train_woheader.csv drive/My\\ Drive/\n",
        "    print(\"saved the graph into file\")\n",
        "else:\n",
        "    g=nx.read_edgelist('train_woheader.csv',delimiter=',',create_using=nx.DiGraph(),nodetype=int)\n",
        "    print(\"File Present\")\n",
        "    print(nx.info(g))"
      ],
      "execution_count": 0,
      "outputs": [
        {
          "output_type": "stream",
          "text": [
            "File Present\n",
            "Name: \n",
            "Type: DiGraph\n",
            "Number of nodes: 1862220\n",
            "Number of edges: 9437519\n",
            "Average in degree:   5.0679\n",
            "Average out degree:   5.0679\n"
          ],
          "name": "stdout"
        }
      ]
    },
    {
      "cell_type": "code",
      "metadata": {
        "id": "E2Q04T3bVJy6",
        "colab_type": "code",
        "outputId": "888d08e0-3b73-4854-9e44-93a9134c47a2",
        "colab": {
          "base_uri": "https://localhost:8080/",
          "height": 204
        }
      },
      "source": [
        "traincsv = pd.read_csv('train.csv')\n",
        "traincsv.head(5)"
      ],
      "execution_count": 0,
      "outputs": [
        {
          "output_type": "execute_result",
          "data": {
            "text/html": [
              "<div>\n",
              "<style scoped>\n",
              "    .dataframe tbody tr th:only-of-type {\n",
              "        vertical-align: middle;\n",
              "    }\n",
              "\n",
              "    .dataframe tbody tr th {\n",
              "        vertical-align: top;\n",
              "    }\n",
              "\n",
              "    .dataframe thead th {\n",
              "        text-align: right;\n",
              "    }\n",
              "</style>\n",
              "<table border=\"1\" class=\"dataframe\">\n",
              "  <thead>\n",
              "    <tr style=\"text-align: right;\">\n",
              "      <th></th>\n",
              "      <th>source_node</th>\n",
              "      <th>destination_node</th>\n",
              "    </tr>\n",
              "  </thead>\n",
              "  <tbody>\n",
              "    <tr>\n",
              "      <th>0</th>\n",
              "      <td>1</td>\n",
              "      <td>690569</td>\n",
              "    </tr>\n",
              "    <tr>\n",
              "      <th>1</th>\n",
              "      <td>1</td>\n",
              "      <td>315892</td>\n",
              "    </tr>\n",
              "    <tr>\n",
              "      <th>2</th>\n",
              "      <td>1</td>\n",
              "      <td>189226</td>\n",
              "    </tr>\n",
              "    <tr>\n",
              "      <th>3</th>\n",
              "      <td>2</td>\n",
              "      <td>834328</td>\n",
              "    </tr>\n",
              "    <tr>\n",
              "      <th>4</th>\n",
              "      <td>2</td>\n",
              "      <td>1615927</td>\n",
              "    </tr>\n",
              "  </tbody>\n",
              "</table>\n",
              "</div>"
            ],
            "text/plain": [
              "   source_node  destination_node\n",
              "0            1            690569\n",
              "1            1            315892\n",
              "2            1            189226\n",
              "3            2            834328\n",
              "4            2           1615927"
            ]
          },
          "metadata": {
            "tags": []
          },
          "execution_count": 5
        }
      ]
    },
    {
      "cell_type": "code",
      "metadata": {
        "id": "-Md2fkMcVDvW",
        "colab_type": "code",
        "outputId": "d5f84e68-abbb-4cf6-ff7f-21b362be2dfe",
        "colab": {
          "base_uri": "https://localhost:8080/",
          "height": 122
        }
      },
      "source": [
        "#from google.colab import drive\n",
        "#drive.mount('drive')\n",
        "#!cp train_woheader.csv drive/My\\ Drive/"
      ],
      "execution_count": 0,
      "outputs": [
        {
          "output_type": "stream",
          "text": [
            "Go to this URL in a browser: https://accounts.google.com/o/oauth2/auth?client_id=947318989803-6bn6qk8qdgf4n4g3pfee6491hc0brc4i.apps.googleusercontent.com&redirect_uri=urn%3aietf%3awg%3aoauth%3a2.0%3aoob&response_type=code&scope=email%20https%3a%2f%2fwww.googleapis.com%2fauth%2fdocs.test%20https%3a%2f%2fwww.googleapis.com%2fauth%2fdrive%20https%3a%2f%2fwww.googleapis.com%2fauth%2fdrive.photos.readonly%20https%3a%2f%2fwww.googleapis.com%2fauth%2fpeopleapi.readonly\n",
            "\n",
            "Enter your authorization code:\n",
            "··········\n",
            "Mounted at drive\n"
          ],
          "name": "stdout"
        }
      ]
    },
    {
      "cell_type": "markdown",
      "metadata": {
        "id": "xC4VMFglORlj",
        "colab_type": "text"
      },
      "source": [
        "> Displaying a sub graph"
      ]
    },
    {
      "cell_type": "code",
      "metadata": {
        "id": "lQkDP0lO7XB2",
        "colab_type": "code",
        "outputId": "e4e01ab5-c9a1-47d2-ed11-434cf8139b6d",
        "colab": {
          "base_uri": "https://localhost:8080/",
          "height": 421
        }
      },
      "source": [
        "if not os.path.isfile('train_woheader_sample.csv'):\n",
        "    pd.read_csv('train.csv', nrows=50).to_csv('train_woheader_sample.csv',header=False,index=False)\n",
        "    !cp train_woheader_sample.csv drive/My\\ Drive/\n",
        "subgraph=nx.read_edgelist('train_woheader_sample.csv',delimiter=',',create_using=nx.DiGraph(),nodetype=int)\n",
        "# https://stackoverflow.com/questions/9402255/drawing-a-huge-graph-with-networkx-and-matplotlib\n",
        "\n",
        "pos=nx.spring_layout(subgraph)\n",
        "nx.draw(subgraph,pos,node_color='#A0CBE2',edge_color='#00bb5e',width=1,edge_cmap=plt.cm.Blues,with_labels=True)\n",
        "plt.savefig(\"graph_sample.pdf\")\n",
        "!cp graph_sample.pdf drive/My\\ Drive/\n",
        "print(nx.info(subgraph))"
      ],
      "execution_count": 0,
      "outputs": [
        {
          "output_type": "stream",
          "text": [
            "Name: \n",
            "Type: DiGraph\n",
            "Number of nodes: 66\n",
            "Number of edges: 50\n",
            "Average in degree:   0.7576\n",
            "Average out degree:   0.7576\n"
          ],
          "name": "stdout"
        },
        {
          "output_type": "display_data",
          "data": {
            "image/png": "[encoded data removed]",
            "text/plain": [
              "<Figure size 432x288 with 1 Axes>"
            ]
          },
          "metadata": {
            "tags": []
          }
        }
      ]
    },
    {
      "cell_type": "markdown",
      "metadata": {
        "id": "5lPpKICcORlp",
        "colab_type": "text"
      },
      "source": [
        "# 1. Exploratory Data Analysis"
      ]
    },
    {
      "cell_type": "code",
      "metadata": {
        "id": "VjWUUhhcORlq",
        "colab_type": "code",
        "outputId": "e4cb0351-4a2d-4a7d-d02b-191cc96113f1",
        "colab": {
          "base_uri": "https://localhost:8080/",
          "height": 34
        }
      },
      "source": [
        "# No of Unique persons \n",
        "g=nx.read_edgelist('train_woheader.csv',delimiter=',',create_using=nx.DiGraph(),nodetype=int)\n",
        "print(\"The number of unique persons\",len(g.nodes()))"
      ],
      "execution_count": 0,
      "outputs": [
        {
          "output_type": "stream",
          "text": [
            "The number of unique persons 1862220\n"
          ],
          "name": "stdout"
        }
      ]
    },
    {
      "cell_type": "markdown",
      "metadata": {
        "id": "tCLMjnJjORlt",
        "colab_type": "text"
      },
      "source": [
        "## 1.1 No of followers for each person"
      ]
    },
    {
      "cell_type": "code",
      "metadata": {
        "id": "Ts6dBpzEZiil",
        "colab_type": "code",
        "outputId": "046809a0-8840-42aa-ca7e-6af8809f8858",
        "colab": {
          "base_uri": "https://localhost:8080/",
          "height": 51
        }
      },
      "source": [
        "#Example :\n",
        "print(\"In degree of node 19  :\",g.in_degree(19))\n",
        "print(\"Out degree of node 19 :\",g.out_degree(19))"
      ],
      "execution_count": 0,
      "outputs": [
        {
          "output_type": "stream",
          "text": [
            "In degree of node 19  : 0\n",
            "Out degree of node 19 : 5\n"
          ],
          "name": "stdout"
        }
      ]
    },
    {
      "cell_type": "code",
      "metadata": {
        "id": "MnCPaVKDORlu",
        "colab_type": "code",
        "outputId": "13d1d180-f13e-491c-e43d-40dde1116b3a",
        "colab": {
          "base_uri": "https://localhost:8080/",
          "height": 388
        }
      },
      "source": [
        "indegree_dist = list(dict(g.in_degree()).values())\n",
        "indegree_dist.sort()\n",
        "plt.figure(figsize=(10,6))\n",
        "plt.plot(indegree_dist)\n",
        "plt.xlabel('Index No')\n",
        "plt.ylabel('No Of Followers')\n",
        "plt.show()"
      ],
      "execution_count": 0,
      "outputs": [
        {
          "output_type": "display_data",
          "data": {
            "image/png": "[encoded data removed]",
            "text/plain": [
              "<Figure size 720x432 with 1 Axes>"
            ]
          },
          "metadata": {
            "tags": []
          }
        }
      ]
    },
    {
      "cell_type": "code",
      "metadata": {
        "id": "7u12QubSORlx",
        "colab_type": "code",
        "outputId": "5ef4e814-1b50-4e97-974b-c87decd985b3",
        "colab": {
          "base_uri": "https://localhost:8080/",
          "height": 388
        }
      },
      "source": [
        "#Zooming in to clearly undertand the scenario for the 0 to 1500000 nodes\n",
        "indegree_dist.sort()\n",
        "plt.figure(figsize=(10,6))\n",
        "plt.plot(indegree_dist[0:1500000])\n",
        "plt.xlabel('Index No')\n",
        "plt.ylabel('No Of Followers')\n",
        "plt.show()"
      ],
      "execution_count": 0,
      "outputs": [
        {
          "output_type": "display_data",
          "data": {
            "image/png": "[encoded data removed]",
            "text/plain": [
              "<Figure size 720x432 with 1 Axes>"
            ]
          },
          "metadata": {
            "tags": []
          }
        }
      ]
    },
    {
      "cell_type": "code",
      "metadata": {
        "id": "DjE6NNmxORl2",
        "colab_type": "code",
        "outputId": "ebc9db11-2253-4524-98c9-05c7ba122813",
        "colab": {
          "base_uri": "https://localhost:8080/",
          "height": 265
        }
      },
      "source": [
        "plt.boxplot(indegree_dist)\n",
        "plt.ylabel('No Of Followers')\n",
        "plt.show()"
      ],
      "execution_count": 0,
      "outputs": [
        {
          "output_type": "display_data",
          "data": {
            "image/png": "[encoded data removed]",
            "text/plain": [
              "<Figure size 432x288 with 1 Axes>"
            ]
          },
          "metadata": {
            "tags": []
          }
        }
      ]
    },
    {
      "cell_type": "code",
      "metadata": {
        "id": "FhifjG6RORl6",
        "colab_type": "code",
        "outputId": "a3205289-1a06-4693-892e-4016872f8ecf",
        "colab": {
          "base_uri": "https://localhost:8080/",
          "height": 204
        }
      },
      "source": [
        "### 90-100 percentile\n",
        "for i in range(0,11):\n",
        "    print(90+i,'percentile value is',np.percentile(indegree_dist,90+i))"
      ],
      "execution_count": 0,
      "outputs": [
        {
          "output_type": "stream",
          "text": [
            "90 percentile value is 12.0\n",
            "91 percentile value is 13.0\n",
            "92 percentile value is 14.0\n",
            "93 percentile value is 15.0\n",
            "94 percentile value is 17.0\n",
            "95 percentile value is 19.0\n",
            "96 percentile value is 21.0\n",
            "97 percentile value is 24.0\n",
            "98 percentile value is 29.0\n",
            "99 percentile value is 40.0\n",
            "100 percentile value is 552.0\n"
          ],
          "name": "stdout"
        }
      ]
    },
    {
      "cell_type": "markdown",
      "metadata": {
        "id": "3gUzb6i7ORl9",
        "colab_type": "text"
      },
      "source": [
        "99% of data having followers of 40 only."
      ]
    },
    {
      "cell_type": "code",
      "metadata": {
        "id": "9Jl6nJ-2ORl-",
        "colab_type": "code",
        "outputId": "8dd491db-bc7d-477d-e640-e423aee77b4d",
        "colab": {
          "base_uri": "https://localhost:8080/",
          "height": 187
        }
      },
      "source": [
        "### 99-100 percentile\n",
        "for i in range(10,110,10):\n",
        "    print(99+(i/100),'percentile value is',np.percentile(indegree_dist,99+(i/100)))"
      ],
      "execution_count": 0,
      "outputs": [
        {
          "output_type": "stream",
          "text": [
            "99.1 percentile value is 42.0\n",
            "99.2 percentile value is 44.0\n",
            "99.3 percentile value is 47.0\n",
            "99.4 percentile value is 50.0\n",
            "99.5 percentile value is 55.0\n",
            "99.6 percentile value is 61.0\n",
            "99.7 percentile value is 70.0\n",
            "99.8 percentile value is 84.0\n",
            "99.9 percentile value is 112.0\n",
            "100.0 percentile value is 552.0\n"
          ],
          "name": "stdout"
        }
      ]
    },
    {
      "cell_type": "code",
      "metadata": {
        "id": "UWJW9_RrORmB",
        "colab_type": "code",
        "outputId": "a3094bdc-115c-4bcc-a913-b313fd545937",
        "colab": {
          "base_uri": "https://localhost:8080/",
          "height": 511
        }
      },
      "source": [
        "%matplotlib inline\n",
        "sns.set_style('ticks')\n",
        "fig, ax = plt.subplots()\n",
        "fig.set_size_inches(11.7, 8.27)\n",
        "sns.distplot(indegree_dist, color='#16A085')\n",
        "plt.xlabel('PDF of Indegree')\n",
        "sns.despine()\n",
        "#plt.show()"
      ],
      "execution_count": 0,
      "outputs": [
        {
          "output_type": "display_data",
          "data": {
            "image/png": "[encoded data removed]",
            "text/plain": [
              "<Figure size 842.4x595.44 with 1 Axes>"
            ]
          },
          "metadata": {
            "tags": []
          }
        }
      ]
    },
    {
      "cell_type": "markdown",
      "metadata": {
        "id": "fjGhgPp2ORmH",
        "colab_type": "text"
      },
      "source": [
        "## 1.2 No of people each person is following"
      ]
    },
    {
      "cell_type": "code",
      "metadata": {
        "id": "kTqMlVSQORmI",
        "colab_type": "code",
        "outputId": "04cdd84c-c1f5-46e4-dea6-836e2f46423a",
        "colab": {
          "base_uri": "https://localhost:8080/",
          "height": 388
        }
      },
      "source": [
        "outdegree_dist = list(dict(g.out_degree()).values())\n",
        "outdegree_dist.sort()\n",
        "plt.figure(figsize=(10,6))\n",
        "plt.plot(outdegree_dist)\n",
        "plt.xlabel('Index No')\n",
        "plt.ylabel('No Of people each person is following')\n",
        "plt.show()"
      ],
      "execution_count": 0,
      "outputs": [
        {
          "output_type": "display_data",
          "data": {
            "image/png": "[encoded data removed]",
            "text/plain": [
              "<Figure size 720x432 with 1 Axes>"
            ]
          },
          "metadata": {
            "tags": []
          }
        }
      ]
    },
    {
      "cell_type": "code",
      "metadata": {
        "id": "k7Nx6PJJORmL",
        "colab_type": "code",
        "outputId": "f7a8ccb4-46a6-4da3-b873-1cb98cc451b9",
        "colab": {
          "base_uri": "https://localhost:8080/",
          "height": 388
        }
      },
      "source": [
        "#Zooming in\n",
        "outdegree_dist.sort()\n",
        "plt.figure(figsize=(10,6))\n",
        "plt.plot(outdegree_dist[0:1500000])\n",
        "plt.xlabel('Index No')\n",
        "plt.ylabel('No Of people each person is following')\n",
        "plt.show()"
      ],
      "execution_count": 0,
      "outputs": [
        {
          "output_type": "display_data",
          "data": {
            "image/png": "[encoded data removed]",
            "text/plain": [
              "<Figure size 720x432 with 1 Axes>"
            ]
          },
          "metadata": {
            "tags": []
          }
        }
      ]
    },
    {
      "cell_type": "code",
      "metadata": {
        "id": "BlEw-IrTORmO",
        "colab_type": "code",
        "outputId": "e3dcb77d-f27e-4581-d60b-5577e8e4413c",
        "colab": {
          "base_uri": "https://localhost:8080/",
          "height": 265
        }
      },
      "source": [
        "plt.boxplot(outdegree_dist)\n",
        "plt.ylabel('No Of people each person is following')\n",
        "plt.show()"
      ],
      "execution_count": 0,
      "outputs": [
        {
          "output_type": "display_data",
          "data": {
            "image/png": "[encoded data removed]",
            "text/plain": [
              "<Figure size 432x288 with 1 Axes>"
            ]
          },
          "metadata": {
            "tags": []
          }
        }
      ]
    },
    {
      "cell_type": "code",
      "metadata": {
        "id": "mCiWqsBeORmS",
        "colab_type": "code",
        "outputId": "8d55a88d-1aa6-4736-d9d2-17ae0f14a541",
        "colab": {
          "base_uri": "https://localhost:8080/",
          "height": 204
        }
      },
      "source": [
        "### 90-100 percentile\n",
        "for i in range(0,11):\n",
        "    print(90+i,'percentile value is',np.percentile(outdegree_dist,90+i))"
      ],
      "execution_count": 0,
      "outputs": [
        {
          "output_type": "stream",
          "text": [
            "90 percentile value is 12.0\n",
            "91 percentile value is 13.0\n",
            "92 percentile value is 14.0\n",
            "93 percentile value is 15.0\n",
            "94 percentile value is 17.0\n",
            "95 percentile value is 19.0\n",
            "96 percentile value is 21.0\n",
            "97 percentile value is 24.0\n",
            "98 percentile value is 29.0\n",
            "99 percentile value is 40.0\n",
            "100 percentile value is 1566.0\n"
          ],
          "name": "stdout"
        }
      ]
    },
    {
      "cell_type": "code",
      "metadata": {
        "id": "aHVdrxfAORmW",
        "colab_type": "code",
        "outputId": "a4b9b1de-7a53-476d-e429-63bcfdb9705c",
        "colab": {
          "base_uri": "https://localhost:8080/",
          "height": 187
        }
      },
      "source": [
        "### 99-100 percentile\n",
        "for i in range(10,110,10):\n",
        "    print(99+(i/100),'percentile value is',np.percentile(outdegree_dist,99+(i/100)))"
      ],
      "execution_count": 0,
      "outputs": [
        {
          "output_type": "stream",
          "text": [
            "99.1 percentile value is 42.0\n",
            "99.2 percentile value is 45.0\n",
            "99.3 percentile value is 48.0\n",
            "99.4 percentile value is 52.0\n",
            "99.5 percentile value is 56.0\n",
            "99.6 percentile value is 63.0\n",
            "99.7 percentile value is 73.0\n",
            "99.8 percentile value is 90.0\n",
            "99.9 percentile value is 123.0\n",
            "100.0 percentile value is 1566.0\n"
          ],
          "name": "stdout"
        }
      ]
    },
    {
      "cell_type": "code",
      "metadata": {
        "id": "v_-KMWvUORma",
        "colab_type": "code",
        "outputId": "5833ab4b-7127-4936-a4a1-d1bdebea78be",
        "colab": {
          "base_uri": "https://localhost:8080/",
          "height": 511
        }
      },
      "source": [
        "sns.set_style('ticks')\n",
        "fig, ax = plt.subplots()\n",
        "fig.set_size_inches(11.7, 8.27)\n",
        "sns.distplot(outdegree_dist, color='#16A085')\n",
        "plt.xlabel('PDF of Outdegree')\n",
        "sns.despine()"
      ],
      "execution_count": 0,
      "outputs": [
        {
          "output_type": "display_data",
          "data": {
            "image/png": "[encoded data removed]",
            "text/plain": [
              "<Figure size 842.4x595.44 with 1 Axes>"
            ]
          },
          "metadata": {
            "tags": []
          }
        }
      ]
    },
    {
      "cell_type": "code",
      "metadata": {
        "id": "gq06cAPsORmd",
        "colab_type": "code",
        "outputId": "1baf8b81-dd58-48cd-fd2d-0eae092b1277",
        "colab": {
          "base_uri": "https://localhost:8080/",
          "height": 34
        }
      },
      "source": [
        "print('No of persons those are not following anyone are' ,sum(np.array(outdegree_dist)==0),'and % is',\n",
        "                                sum(np.array(outdegree_dist)==0)*100/len(outdegree_dist) )"
      ],
      "execution_count": 0,
      "outputs": [
        {
          "output_type": "stream",
          "text": [
            "No of persons those are not following anyone are 274512 and % is 14.741115442858524\n"
          ],
          "name": "stdout"
        }
      ]
    },
    {
      "cell_type": "code",
      "metadata": {
        "id": "28WmUtuwORml",
        "colab_type": "code",
        "outputId": "b156e604-3573-4c23-e962-56215060aaae",
        "colab": {
          "base_uri": "https://localhost:8080/",
          "height": 34
        }
      },
      "source": [
        "print('No of persons having zero followers are' ,sum(np.array(indegree_dist)==0),'and % is',\n",
        "                                sum(np.array(indegree_dist)==0)*100/len(indegree_dist) )"
      ],
      "execution_count": 0,
      "outputs": [
        {
          "output_type": "stream",
          "text": [
            "No of persons having zero followers are 188043 and % is 10.097786512871734\n"
          ],
          "name": "stdout"
        }
      ]
    },
    {
      "cell_type": "code",
      "metadata": {
        "id": "afwOk-EAORmr",
        "colab_type": "code",
        "outputId": "e054a76c-ef27-4100-af30-227215cfe6e4",
        "colab": {
          "base_uri": "https://localhost:8080/",
          "height": 34
        }
      },
      "source": [
        "count=0\n",
        "for i in g.nodes():\n",
        "    if len(list(g.predecessors(i)))==0 :\n",
        "        if len(list(g.successors(i)))==0:\n",
        "            count+=1\n",
        "print('No of persons those are not not following anyone and also not having any followers are',count)"
      ],
      "execution_count": 0,
      "outputs": [
        {
          "output_type": "stream",
          "text": [
            "No of persons those are not not following anyone and also not having any followers are 0\n"
          ],
          "name": "stdout"
        }
      ]
    },
    {
      "cell_type": "markdown",
      "metadata": {
        "id": "fCRpdjITORmu",
        "colab_type": "text"
      },
      "source": [
        "## 1.3 both followers + following "
      ]
    },
    {
      "cell_type": "code",
      "metadata": {
        "id": "W7v68L-mORmv",
        "colab_type": "code",
        "colab": {}
      },
      "source": [
        "from collections import Counter\n",
        "dict_in = dict(g.in_degree())\n",
        "dict_out = dict(g.out_degree())\n",
        "d = Counter(dict_in) + Counter(dict_out)\n",
        "in_out_degree = np.array(list(d.values()))"
      ],
      "execution_count": 0,
      "outputs": []
    },
    {
      "cell_type": "code",
      "metadata": {
        "id": "6msC6dluORmy",
        "colab_type": "code",
        "outputId": "5ebd02b8-ec81-42ea-fcc7-c1940f5ab87c",
        "colab": {
          "base_uri": "https://localhost:8080/",
          "height": 388
        }
      },
      "source": [
        "in_out_degree_sort = sorted(in_out_degree)\n",
        "plt.figure(figsize=(10,6))\n",
        "plt.plot(in_out_degree_sort)\n",
        "plt.xlabel('Index No')\n",
        "plt.ylabel('No Of people each person is following + followers')\n",
        "plt.show()"
      ],
      "execution_count": 0,
      "outputs": [
        {
          "output_type": "display_data",
          "data": {
            "image/png": "[encoded data removed]",
            "text/plain": [
              "<Figure size 720x432 with 1 Axes>"
            ]
          },
          "metadata": {
            "tags": []
          }
        }
      ]
    },
    {
      "cell_type": "code",
      "metadata": {
        "id": "QralmNoAORm2",
        "colab_type": "code",
        "outputId": "055a35c7-580d-4aac-814f-b52c10dd1be5",
        "colab": {
          "base_uri": "https://localhost:8080/",
          "height": 388
        }
      },
      "source": [
        "#Zooming in\n",
        "plt.figure(figsize=(10,6))\n",
        "plt.plot(in_out_degree_sort[0:1500000])\n",
        "plt.xlabel('Index No')\n",
        "plt.ylabel('No Of people each person is following + followers')\n",
        "plt.show()"
      ],
      "execution_count": 0,
      "outputs": [
        {
          "output_type": "display_data",
          "data": {
            "image/png": "[encoded data removed]",
            "text/plain": [
              "<Figure size 720x432 with 1 Axes>"
            ]
          },
          "metadata": {
            "tags": []
          }
        }
      ]
    },
    {
      "cell_type": "code",
      "metadata": {
        "id": "tw981sJQORm6",
        "colab_type": "code",
        "outputId": "3d5694b4-d075-41dc-cd78-c0571eb76429",
        "colab": {
          "base_uri": "https://localhost:8080/",
          "height": 204
        }
      },
      "source": [
        "### 90-100 percentile\n",
        "for i in range(0,11):\n",
        "    print(90+i,'percentile value is',np.percentile(in_out_degree_sort,90+i))"
      ],
      "execution_count": 0,
      "outputs": [
        {
          "output_type": "stream",
          "text": [
            "90 percentile value is 24.0\n",
            "91 percentile value is 26.0\n",
            "92 percentile value is 28.0\n",
            "93 percentile value is 31.0\n",
            "94 percentile value is 33.0\n",
            "95 percentile value is 37.0\n",
            "96 percentile value is 41.0\n",
            "97 percentile value is 48.0\n",
            "98 percentile value is 58.0\n",
            "99 percentile value is 79.0\n",
            "100 percentile value is 1579.0\n"
          ],
          "name": "stdout"
        }
      ]
    },
    {
      "cell_type": "code",
      "metadata": {
        "id": "h67hARicORm-",
        "colab_type": "code",
        "outputId": "d39640e4-6b73-4b71-b34d-1c32447de90b",
        "colab": {
          "base_uri": "https://localhost:8080/",
          "height": 187
        }
      },
      "source": [
        "### 99-100 percentile\n",
        "for i in range(10,110,10):\n",
        "    print(99+(i/100),'percentile value is',np.percentile(in_out_degree_sort,99+(i/100)))"
      ],
      "execution_count": 0,
      "outputs": [
        {
          "output_type": "stream",
          "text": [
            "99.1 percentile value is 83.0\n",
            "99.2 percentile value is 87.0\n",
            "99.3 percentile value is 93.0\n",
            "99.4 percentile value is 99.0\n",
            "99.5 percentile value is 108.0\n",
            "99.6 percentile value is 120.0\n",
            "99.7 percentile value is 138.0\n",
            "99.8 percentile value is 168.0\n",
            "99.9 percentile value is 221.0\n",
            "100.0 percentile value is 1579.0\n"
          ],
          "name": "stdout"
        }
      ]
    },
    {
      "cell_type": "code",
      "metadata": {
        "id": "BHT0CMUzORnB",
        "colab_type": "code",
        "outputId": "e7aa03ed-941c-4757-e1e1-9616b546263d",
        "colab": {
          "base_uri": "https://localhost:8080/",
          "height": 51
        }
      },
      "source": [
        "print('Min of no of followers + following is',in_out_degree.min())\n",
        "print(np.sum(in_out_degree==in_out_degree.min()),' persons having minimum no of followers + following')"
      ],
      "execution_count": 0,
      "outputs": [
        {
          "output_type": "stream",
          "text": [
            "Min of no of followers + following is 1\n",
            "334291  persons having minimum no of followers + following\n"
          ],
          "name": "stdout"
        }
      ]
    },
    {
      "cell_type": "code",
      "metadata": {
        "id": "D_ulBWM3ORnG",
        "colab_type": "code",
        "outputId": "42a577b2-7dfd-44fd-c80d-8eaf7f03fc93",
        "colab": {
          "base_uri": "https://localhost:8080/",
          "height": 51
        }
      },
      "source": [
        "print('Max of no of followers + following is',in_out_degree.max())\n",
        "print(np.sum(in_out_degree==in_out_degree.max()),' persons having maximum no of followers + following')"
      ],
      "execution_count": 0,
      "outputs": [
        {
          "output_type": "stream",
          "text": [
            "Max of no of followers + following is 1579\n",
            "1  persons having maximum no of followers + following\n"
          ],
          "name": "stdout"
        }
      ]
    },
    {
      "cell_type": "code",
      "metadata": {
        "id": "6a61nDvYORnK",
        "colab_type": "code",
        "outputId": "be948500-f524-4149-a747-e87079512283",
        "colab": {
          "base_uri": "https://localhost:8080/",
          "height": 34
        }
      },
      "source": [
        "print('No of persons having followers + following less than 10 are',np.sum(in_out_degree<10))"
      ],
      "execution_count": 0,
      "outputs": [
        {
          "output_type": "stream",
          "text": [
            "No of persons having followers + following less than 10 are 1320326\n"
          ],
          "name": "stdout"
        }
      ]
    },
    {
      "cell_type": "code",
      "metadata": {
        "id": "tGkfI4aRORnO",
        "colab_type": "code",
        "outputId": "30f68da8-1337-47cd-96d8-f6212fb3a0a9",
        "colab": {
          "base_uri": "https://localhost:8080/",
          "height": 51
        }
      },
      "source": [
        "print('No of weakly connected components',len(list(nx.weakly_connected_components(g))))\n",
        "count=0\n",
        "for i in list(nx.weakly_connected_components(g)):\n",
        "    if len(i)==2:\n",
        "        count+=1\n",
        "print('weakly connected components wit 2 nodes',count)"
      ],
      "execution_count": 0,
      "outputs": [
        {
          "output_type": "stream",
          "text": [
            "No of weakly connected components 45558\n",
            "weakly connected components wit 2 nodes 32195\n"
          ],
          "name": "stdout"
        }
      ]
    },
    {
      "cell_type": "markdown",
      "metadata": {
        "id": "u6uqmjurORnT",
        "colab_type": "text"
      },
      "source": [
        "# 2. Posing a problem as classification problem "
      ]
    },
    {
      "cell_type": "markdown",
      "metadata": {
        "id": "dZYvDAwDORnU",
        "colab_type": "text"
      },
      "source": [
        "## 2.1 Generating some edges which are not present in graph for supervised learning  \n",
        "Generated Bad links from graph which are not in graph and whose shortest path is greater than 2. "
      ]
    },
    {
      "cell_type": "code",
      "metadata": {
        "id": "sWYsq0HU9VHr",
        "colab_type": "code",
        "outputId": "94b9cef8-fc07-44fb-ecdd-e84469d34eef",
        "colab": {
          "base_uri": "https://localhost:8080/",
          "height": 68
        }
      },
      "source": [
        "%%time\n",
        "###generating bad edges from given graph\n",
        "import random\n",
        "if not os.path.isfile('missing_edges_final.p'):\n",
        "    #getting all set of edges\n",
        "    r = csv.reader(open('train_woheader.csv','r'))\n",
        "    edges = dict()\n",
        "    for edge in r:\n",
        "        edges[(edge[0], edge[1])] = 1\n",
        "        \n",
        "        \n",
        "    missing_edges = set([])\n",
        "    while (len(missing_edges)<9437519):\n",
        "        a=random.randint(1, 1862220)\n",
        "        b=random.randint(1, 1862220)\n",
        "        tmp = edges.get((a,b),-1)\n",
        "        if tmp == -1 and a!=b:\n",
        "            try:\n",
        "                if nx.shortest_path_length(g,source=a,target=b) > 2: \n",
        "\n",
        "                    missing_edges.add((a,b))\n",
        "                else:\n",
        "                    continue  \n",
        "            except:  \n",
        "                    missing_edges.add((a,b))              \n",
        "        else:\n",
        "            continue\n",
        "    pickle.dump(missing_edges,open('missing_edges_final.p','wb'))\n",
        "else:\n",
        "    print('File Present')\n",
        "    missing_edges = pickle.load(open('missing_edges_final.p','rb'))"
      ],
      "execution_count": 0,
      "outputs": [
        {
          "output_type": "stream",
          "text": [
            "File Present\n",
            "CPU times: user 2.18 s, sys: 579 ms, total: 2.76 s\n",
            "Wall time: 2.76 s\n"
          ],
          "name": "stdout"
        }
      ]
    },
    {
      "cell_type": "code",
      "metadata": {
        "id": "7gVf5nUwORnb",
        "colab_type": "code",
        "outputId": "fd76e00a-2edb-43cb-fb4e-f799c866298d",
        "colab": {
          "base_uri": "https://localhost:8080/",
          "height": 34
        }
      },
      "source": [
        "len(missing_edges)"
      ],
      "execution_count": 0,
      "outputs": [
        {
          "output_type": "execute_result",
          "data": {
            "text/plain": [
              "9437519"
            ]
          },
          "metadata": {
            "tags": []
          },
          "execution_count": 10
        }
      ]
    },
    {
      "cell_type": "markdown",
      "metadata": {
        "id": "JOFQEKhjORne",
        "colab_type": "text"
      },
      "source": [
        "## 2.2 Training and Test data split:  \n",
        "Removed edges from Graph and used as test data and after removing used that graph for creating features for Train and test data"
      ]
    },
    {
      "cell_type": "code",
      "metadata": {
        "id": "GJHTrPXEORng",
        "colab_type": "code",
        "outputId": "90568030-b7c7-481f-852d-6085483ce1be",
        "colab": {
          "base_uri": "https://localhost:8080/",
          "height": 153
        }
      },
      "source": [
        "from sklearn.model_selection import train_test_split\n",
        "from numpy import savetxt\n",
        "\n",
        "if (not os.path.isfile('train_pos_after_eda.csv')) and (not os.path.isfile('test_pos_after_eda.csv')):\n",
        "    #reading total data df\n",
        "    df_pos = pd.read_csv('train.csv')\n",
        "    df_neg = pd.DataFrame(list(missing_edges), columns=['source_node', 'destination_node'])\n",
        "    \n",
        "    print(\"Number of nodes in the graph with edges\", df_pos.shape[0])\n",
        "    print(\"Number of nodes in the graph without edges\", df_neg.shape[0])\n",
        "    \n",
        "    #Train test split \n",
        "    #Spiltted data into 80-20 \n",
        "    #positive links and negative links seperatly because we need only positive training data for creating graph \n",
        "    #and for feature generation\n",
        "    X_train_pos, X_test_pos, y_train_pos, y_test_pos  = train_test_split(df_pos,np.ones(len(df_pos)),test_size=0.2, random_state=9)\n",
        "    X_train_neg, X_test_neg, y_train_neg, y_test_neg  = train_test_split(df_neg,np.zeros(len(df_neg)),test_size=0.2, random_state=9)\n",
        "    \n",
        "    print('='*60)\n",
        "    print(\"Number of nodes in the train data graph with edges\", X_train_pos.shape[0],\"=\",y_train_pos.shape[0])\n",
        "    print(\"Number of nodes in the train data graph without edges\", X_train_neg.shape[0],\"=\", y_train_neg.shape[0])\n",
        "    print('='*60)\n",
        "    print(\"Number of nodes in the test data graph with edges\", X_test_pos.shape[0],\"=\",y_test_pos.shape[0])\n",
        "    print(\"Number of nodes in the test data graph without edges\", X_test_neg.shape[0],\"=\",y_test_neg.shape[0])\n",
        "\n",
        "    #removing header and saving\n",
        "    X_train_pos.to_csv('train_pos_after_eda.csv',header=False, index=False)\n",
        "    X_test_pos.to_csv('test_pos_after_eda.csv',header=False, index=False)\n",
        "    X_train_neg.to_csv('train_neg_after_eda.csv',header=False, index=False)\n",
        "    X_test_neg.to_csv('test_neg_after_eda.csv',header=False, index=False)\n",
        "\n",
        "    savetxt('y_train_pos.csv',y_train_pos,delimiter=',')\n",
        "    savetxt('y_test_pos.csv',y_test_pos,delimiter=',')\n",
        "    savetxt('y_train_neg.csv',y_train_neg,delimiter=',')\n",
        "    savetxt('y_test_neg.csv',y_test_neg,delimiter=',')\n",
        "else:\n",
        "    #Graph from Traing data only \n",
        "    print('File Present')\n",
        "    del missing_edges"
      ],
      "execution_count": 0,
      "outputs": [
        {
          "output_type": "stream",
          "text": [
            "Number of nodes in the graph with edges 9437519\n",
            "Number of nodes in the graph without edges 9437519\n",
            "============================================================\n",
            "Number of nodes in the train data graph with edges 7550015 = 7550015\n",
            "Number of nodes in the train data graph without edges 7550015 = 7550015\n",
            "============================================================\n",
            "Number of nodes in the test data graph with edges 1887504 = 1887504\n",
            "Number of nodes in the test data graph without edges 1887504 = 1887504\n"
          ],
          "name": "stdout"
        }
      ]
    },
    {
      "cell_type": "code",
      "metadata": {
        "id": "WV0XEthu4lq_",
        "colab_type": "code",
        "colab": {}
      },
      "source": [
        "!cp train_pos_after_eda.csv /content/drive/My\\ Drive/Facebook\\ Friend\\ Recommend\\ Graph\\ /EDA/\n",
        "!cp test_pos_after_eda.csv /content/drive/My\\ Drive/Facebook\\ Friend\\ Recommend\\ Graph\\ /EDA/\n",
        "!cp train_neg_after_eda.csv /content/drive/My\\ Drive/Facebook\\ Friend\\ Recommend\\ Graph\\ /EDA/\n",
        "!cp test_neg_after_eda.csv /content/drive/My\\ Drive/Facebook\\ Friend\\ Recommend\\ Graph\\ /EDA/\n",
        "\n",
        "!cp y_train_pos.csv /content/drive/My\\ Drive/Facebook\\ Friend\\ Recommend\\ Graph\\ /EDA/\n",
        "!cp y_test_pos.csv /content/drive/My\\ Drive/Facebook\\ Friend\\ Recommend\\ Graph\\ /EDA/\n",
        "!cp y_train_neg.csv /content/drive/My\\ Drive/Facebook\\ Friend\\ Recommend\\ Graph\\ /EDA/\n",
        "!cp y_test_neg.csv /content/drive/My\\ Drive/Facebook\\ Friend\\ Recommend\\ Graph\\ /EDA/"
      ],
      "execution_count": 0,
      "outputs": []
    },
    {
      "cell_type": "code",
      "metadata": {
        "id": "qW7fX9OuORnk",
        "colab_type": "code",
        "outputId": "45091856-9f0d-4345-8e18-7e8cdaf7462a",
        "colab": {
          "base_uri": "https://localhost:8080/",
          "height": 289
        }
      },
      "source": [
        "if (os.path.isfile('train_pos_after_eda.csv')) and (os.path.isfile('test_pos_after_eda.csv')):        \n",
        "    train_graph=nx.read_edgelist('train_pos_after_eda.csv',delimiter=',',create_using=nx.DiGraph(),nodetype=int)\n",
        "    test_graph=nx.read_edgelist('test_pos_after_eda.csv',delimiter=',',create_using=nx.DiGraph(),nodetype=int)\n",
        "    print(nx.info(train_graph))\n",
        "    print(nx.info(test_graph))\n",
        "\n",
        "    # finding the unique nodes in the both train and test graphs\n",
        "    train_nodes_pos = set(train_graph.nodes())\n",
        "    test_nodes_pos = set(test_graph.nodes())\n",
        "\n",
        "    trY_teY = len(train_nodes_pos.intersection(test_nodes_pos))\n",
        "    trY_teN = len(train_nodes_pos - test_nodes_pos)\n",
        "    teY_trN = len(test_nodes_pos - train_nodes_pos)\n",
        "\n",
        "    print('no of people common in train and test -- ',trY_teY)\n",
        "    print('no of people present in train but not present in test -- ',trY_teN)\n",
        "\n",
        "    print('no of people present in test but not present in train -- ',teY_trN)\n",
        "    print(' % of people not there in Train but exist in Test in total Test data are {} %'.format(teY_trN/len(test_nodes_pos)*100))"
      ],
      "execution_count": 0,
      "outputs": [
        {
          "output_type": "stream",
          "text": [
            "Name: \n",
            "Type: DiGraph\n",
            "Number of nodes: 1780722\n",
            "Number of edges: 7550015\n",
            "Average in degree:   4.2399\n",
            "Average out degree:   4.2399\n",
            "Name: \n",
            "Type: DiGraph\n",
            "Number of nodes: 1144623\n",
            "Number of edges: 1887504\n",
            "Average in degree:   1.6490\n",
            "Average out degree:   1.6490\n",
            "no of people common in train and test --  1063125\n",
            "no of people present in train but not present in test --  717597\n",
            "no of people present in test but not present in train --  81498\n",
            " % of people not there in Train but exist in Test in total Test data are 7.1200735962845405 %\n"
          ],
          "name": "stdout"
        }
      ]
    },
    {
      "cell_type": "markdown",
      "metadata": {
        "id": "nHjj-khHORno",
        "colab_type": "text"
      },
      "source": [
        "> We have a cold start problem here. This means there are 7.12% people(node) present in the test dataset but not in the train dataset."
      ]
    },
    {
      "cell_type": "code",
      "metadata": {
        "id": "UDT9PGNWORno",
        "colab_type": "code",
        "colab": {}
      },
      "source": [
        "#final train and test data sets\n",
        "if (not os.path.isfile('train_after_eda.csv')) and \\\n",
        "(not os.path.isfile('test_after_eda.csv')) and \\\n",
        "(not os.path.isfile('train_y.csv')) and \\\n",
        "(not os.path.isfile('test_y.csv')) and \\\n",
        "(os.path.isfile('train_pos_after_eda.csv')) and \\\n",
        "(os.path.isfile('test_pos_after_eda.csv')) and \\\n",
        "(os.path.isfile('train_neg_after_eda.csv')) and \\\n",
        "(os.path.isfile('test_neg_after_eda.csv')):\n",
        "    \n",
        "    X_train_pos = pd.read_csv('train_pos_after_eda.csv', names=['source_node', 'destination_node'])\n",
        "    X_test_pos = pd.read_csv('test_pos_after_eda.csv', names=['source_node', 'destination_node'])\n",
        "    X_train_neg = pd.read_csv('train_neg_after_eda.csv', names=['source_node', 'destination_node'])\n",
        "    X_test_neg = pd.read_csv('test_neg_after_eda.csv', names=['source_node', 'destination_node'])\n",
        "\n",
        "    y_train_pos = pd.read_csv('y_train_pos.csv')\n",
        "    y_train_neg = pd.read_csv('y_train_neg.csv')\n",
        "    y_test_pos = pd.read_csv('y_test_pos.csv')\n",
        "    y_test_neg = pd.read_csv('y_test_neg.csv')\n",
        "\n",
        "    print('='*60)\n",
        "    print(\"Number of nodes in the train data graph with edges\", X_train_pos.shape[0])\n",
        "    print(\"Number of nodes in the train data graph without edges\", X_train_neg.shape[0])\n",
        "    print('='*60)\n",
        "    print(\"Number of nodes in the test data graph with edges\", X_test_pos.shape[0])\n",
        "    print(\"Number of nodes in the test data graph without edges\", X_test_neg.shape[0])\n",
        "\n",
        "    \n",
        "    X_train = X_train_pos.append(X_train_neg,ignore_index=True)\n",
        "    y_train = np.concatenate((y_train_pos,y_train_neg))\n",
        "    X_test = X_test_pos.append(X_test_neg,ignore_index=True)\n",
        "    y_test = np.concatenate((y_test_pos,y_test_neg)) \n",
        "    \n",
        "    X_train.to_csv('train_after_eda.csv',header=False,index=False)\n",
        "    X_test.to_csv('test_after_eda.csv',header=False,index=False)\n",
        "    pd.DataFrame(y_train.astype(int)).to_csv('train_y.csv',header=False,index=False)\n",
        "    pd.DataFrame(y_test.astype(int)).to_csv('test_y.csv',header=False,index=False)"
      ],
      "execution_count": 0,
      "outputs": []
    },
    {
      "cell_type": "code",
      "metadata": {
        "id": "SAyNnx6JLEo-",
        "colab_type": "code",
        "outputId": "31993a24-d9c4-4648-eb80-5adcae664035",
        "colab": {
          "base_uri": "https://localhost:8080/",
          "height": 68
        }
      },
      "source": [
        "!cp train_after_eda.csv drive/My\\ Drive/Facebook\\ Friend\\ Recommend\\ Graph\\ /EDA/\n",
        "!cp test_after_eda.csv drive/My\\ Drive/Facebook\\ Friend\\ Recommend\\ Graph\\ /EDA/\n",
        "!cp train_y.csv drive/My\\ Drive/Facebook\\ Friend\\ Recommend\\ Graph\\ /EDA/\n",
        "!cp test_y.csv drive/My\\ Drive/Facebook\\ Friend\\ Recommend\\ Graph\\ /EDA/"
      ],
      "execution_count": 0,
      "outputs": [
        {
          "output_type": "stream",
          "text": [
            "cp: cannot stat 'train_after_eda.csv': No such file or directory\n",
            "cp: cannot stat 'test_after_eda.csv': No such file or directory\n",
            "cp: cannot stat 'test_y.csv': No such file or directory\n"
          ],
          "name": "stdout"
        }
      ]
    },
    {
      "cell_type": "code",
      "metadata": {
        "id": "R8QpQoOTORnr",
        "colab_type": "code",
        "outputId": "a844dca8-89a5-4710-a7c4-ee162801cd5d",
        "colab": {
          "base_uri": "https://localhost:8080/",
          "height": 85
        }
      },
      "source": [
        "print(\"Data points in train data\",X_train.shape)\n",
        "print(\"Data points in test data\",X_test.shape)\n",
        "print(\"Shape of traget variable in train\",y_train.shape)\n",
        "print(\"Shape of traget variable in test\", y_test.shape)"
      ],
      "execution_count": 0,
      "outputs": [
        {
          "output_type": "stream",
          "text": [
            "Data points in train data (15100030, 2)\n",
            "Data points in test data (3775008, 2)\n",
            "Shape of traget variable in train (15100030,)\n",
            "Shape of traget variable in test (3775008,)\n"
          ],
          "name": "stdout"
        }
      ]
    },
    {
      "cell_type": "markdown",
      "metadata": {
        "id": "d-UNBofWlgbO",
        "colab_type": "text"
      },
      "source": [
        "Computed and stored the data for featurization.\n",
        "\n",
        "Please check out FB_featurization.ipynb"
      ]
    }
  ]
}